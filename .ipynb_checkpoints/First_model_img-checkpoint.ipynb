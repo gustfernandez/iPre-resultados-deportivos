{
 "cells": [
  {
   "cell_type": "code",
   "execution_count": 1,
   "id": "1333f560-2a2d-418c-aa50-0995d2060344",
   "metadata": {},
   "outputs": [],
   "source": [
    "import torch\n",
    "import torch.nn as nn\n",
    "import torch.optim as optim\n",
    "from torch.utils.data import Dataset, DataLoader\n",
    "import torchvision.transforms as transforms\n",
    "from torchvision.datasets import ImageFolder\n",
    "import timm\n",
    "\n",
    "import matplotlib.pyplot as plt\n",
    "import numpy as np\n",
    "import pandas as pd"
   ]
  },
  {
   "cell_type": "markdown",
   "id": "76158fa2",
   "metadata": {},
   "source": [
    "Revisar Que las librerias esten instaladas"
   ]
  },
  {
   "cell_type": "code",
   "execution_count": 5,
   "id": "89a80438",
   "metadata": {},
   "outputs": [
    {
     "name": "stdout",
     "output_type": "stream",
     "text": [
      "PyTorch Version:  2.2.1\n",
      "NumPy Version:  1.24.4\n",
      "Pandas Version:  2.0.3\n"
     ]
    }
   ],
   "source": [
    "print(\"PyTorch Version: \", torch.__version__)\n",
    "print(\"NumPy Version: \", np.__version__)\n",
    "print(\"Pandas Version: \", pd.__version__)"
   ]
  },
  {
   "cell_type": "code",
   "execution_count": null,
   "id": "9c034869-04d6-4e82-903c-fa706115ad2a",
   "metadata": {},
   "outputs": [],
   "source": []
  }
 ],
 "metadata": {
  "kernelspec": {
   "display_name": "Python 3 (ipykernel)",
   "language": "python",
   "name": "python3"
  },
  "language_info": {
   "codemirror_mode": {
    "name": "ipython",
    "version": 3
   },
   "file_extension": ".py",
   "mimetype": "text/x-python",
   "name": "python",
   "nbconvert_exporter": "python",
   "pygments_lexer": "ipython3",
   "version": "3.8.18"
  }
 },
 "nbformat": 4,
 "nbformat_minor": 5
}
