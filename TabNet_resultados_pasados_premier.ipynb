{
 "cells": [
  {
   "cell_type": "code",
   "execution_count": 1,
   "metadata": {},
   "outputs": [],
   "source": [
    "from pytorch_tabnet.tab_model import TabNetClassifier\n",
    "\n",
    "import os\n",
    "import torch\n",
    "import pandas as pd\n",
    "import numpy as np\n",
    "import itertools\n",
    "import matplotlib.pyplot as plt\n",
    " \n",
    "from sklearn.model_selection import KFold, train_test_split\n",
    "from sklearn.preprocessing import MinMaxScaler, StandardScaler\n",
    "from sklearn.metrics import accuracy_score, classification_report, confusion_matrix"
   ]
  },
  {
   "cell_type": "code",
   "execution_count": 16,
   "metadata": {},
   "outputs": [
    {
     "name": "stdout",
     "output_type": "stream",
     "text": [
      "Index(['Season_End_Year', 'Team', 'Rk', 'MP', 'W', 'D', 'L', 'GF', 'GA', 'GD',\n",
      "       'Pts', 'Notes'],\n",
      "      dtype='object')\n",
      "       Season_End_Year          Rk          MP           W           D  \\\n",
      "count       314.000000  314.000000  314.000000  314.000000  314.000000   \n",
      "mean       2008.130573    8.993631   38.331210   16.232484    9.334395   \n",
      "std           8.750654    7.206225    1.104094    7.144789    3.019579   \n",
      "min        1993.000000    1.000000   38.000000    1.000000    2.000000   \n",
      "25%        2001.000000    3.000000   38.000000    9.000000    7.000000   \n",
      "50%        2008.000000    6.000000   38.000000   17.000000    9.000000   \n",
      "75%        2016.000000   18.000000   38.000000   21.000000   11.000000   \n",
      "max        2023.000000   22.000000   42.000000   32.000000   18.000000   \n",
      "\n",
      "                L          GF          GA          GD         Pts  \n",
      "count  314.000000  314.000000  314.000000  314.000000  314.000000  \n",
      "mean    12.764331   56.261146   48.181529    8.079618   57.993631  \n",
      "std      6.726648   18.085931   15.772813   31.020091   20.664055  \n",
      "min      0.000000   20.000000   15.000000  -69.000000   11.000000  \n",
      "25%      8.000000   42.000000   36.000000  -19.750000   36.250000  \n",
      "50%     11.000000   55.000000   45.000000   13.000000   62.000000  \n",
      "75%     19.000000   68.000000   58.000000   30.750000   74.000000  \n",
      "max     29.000000  106.000000  100.000000   79.000000  100.000000  \n"
     ]
    }
   ],
   "source": [
    "historical_standings_pl = pd.read_csv('data/Premier/premier-league-standing-1993-2023.csv')\n",
    "historical_standings_pl = historical_standings_pl.dropna()\n",
    "\n",
    "print(historical_standings_pl.columns)\n",
    "print(historical_standings_pl.describe())"
   ]
  },
  {
   "cell_type": "code",
   "execution_count": 6,
   "metadata": {},
   "outputs": [
    {
     "name": "stdout",
     "output_type": "stream",
     "text": [
      "Index(['Season_End_Year', 'Team', 'Rk', 'MP', 'W', 'D', 'L', 'GF', 'GA', 'GD',\n",
      "       'Pts'],\n",
      "      dtype='object')\n"
     ]
    }
   ],
   "source": [
    "#columna Notes no aporta.\n",
    "historical_standings_pl = historical_standings_pl.drop(columns=['Notes'])\n",
    "print(historical_standings_pl.columns)"
   ]
  },
  {
   "cell_type": "code",
   "execution_count": 17,
   "metadata": {},
   "outputs": [
    {
     "name": "stdout",
     "output_type": "stream",
     "text": [
      "['Arsenal' 'Aston Villa' 'Crystal Palace' 'Manchester Utd' 'Middlesbrough'\n",
      " 'Norwich City' \"Nott'ham Forest\" 'Blackburn' 'Chelsea' 'Newcastle Utd'\n",
      " 'Oldham Athletic' 'Sheffield Utd' 'Swindon Town' 'Everton' 'Ipswich Town'\n",
      " 'Leeds United' 'Leicester City' 'Liverpool' 'Bolton' 'Manchester City'\n",
      " 'QPR' 'Sunderland' 'Barnsley' 'Charlton Ath' 'Tottenham' 'West Ham'\n",
      " 'Bradford City' 'Sheffield Weds' 'Watford' 'Wimbledon' 'Coventry City'\n",
      " 'Derby County' 'Fulham' 'Southampton' 'West Brom' 'Wolves'\n",
      " 'Birmingham City' 'Portsmouth' 'Reading' 'Burnley' 'Hull City'\n",
      " 'Blackpool' 'Stoke City' 'Swansea City' 'Wigan Athletic' 'Cardiff City'\n",
      " 'Huddersfield' 'Bournemouth' 'Brighton']\n",
      "\n",
      "cantidad:  49\n"
     ]
    }
   ],
   "source": [
    "#Revisamos la cantidad y los nombres de los equipos\n",
    "print(historical_standings_pl['Team'].unique())\n",
    "print(\"\\ncantidad: \", len(historical_standings_pl['Team'].unique()))"
   ]
  },
  {
   "cell_type": "code",
   "execution_count": 18,
   "metadata": {},
   "outputs": [
    {
     "name": "stdout",
     "output_type": "stream",
     "text": [
      "Index(['Season_End_Year', 'Wk', 'Date', 'Home', 'HomeGoals', 'AwayGoals',\n",
      "       'Away', 'FTR'],\n",
      "      dtype='object')\n",
      "       Season_End_Year            Wk     HomeGoals     AwayGoals\n",
      "count     12026.000000  12026.000000  12026.000000  12026.000000\n",
      "mean       2007.713620     19.730501      1.524364      1.142525\n",
      "std           9.072559     11.123916      1.306417      1.133930\n",
      "min        1993.000000      1.000000      0.000000      0.000000\n",
      "25%        2000.000000     10.000000      1.000000      0.000000\n",
      "50%        2008.000000     20.000000      1.000000      1.000000\n",
      "75%        2016.000000     29.000000      2.000000      2.000000\n",
      "max        2023.000000     42.000000      9.000000      9.000000\n"
     ]
    }
   ],
   "source": [
    "#Cargar archivo de los partidos\n",
    "matches = pd.read_csv('data/Premier/premier-league-matches-1993-2023.csv')\n",
    "\n",
    "print(matches.columns)\n",
    "print(matches.describe())"
   ]
  },
  {
   "cell_type": "code",
   "execution_count": 19,
   "metadata": {},
   "outputs": [
    {
     "name": "stdout",
     "output_type": "stream",
     "text": [
      "equipos locales:  ['Coventry City' 'Leeds United' 'Sheffield Utd' 'Crystal Palace' 'Arsenal'\n",
      " 'Ipswich Town' 'Everton' 'Southampton' 'Chelsea' \"Nott'ham Forest\"\n",
      " 'Manchester City' 'Blackburn' 'Wimbledon' 'Tottenham' 'Liverpool'\n",
      " 'Aston Villa' 'Oldham Athletic' 'Middlesbrough' 'Norwich City' 'QPR'\n",
      " 'Manchester Utd' 'Sheffield Weds' 'Newcastle Utd' 'West Ham'\n",
      " 'Swindon Town' 'Leicester City' 'Bolton' 'Sunderland' 'Derby County'\n",
      " 'Barnsley' 'Charlton Ath' 'Watford' 'Bradford City' 'Fulham'\n",
      " 'Birmingham City' 'West Brom' 'Portsmouth' 'Wolves' 'Wigan Athletic'\n",
      " 'Reading' 'Hull City' 'Stoke City' 'Burnley' 'Blackpool' 'Swansea City'\n",
      " 'Cardiff City' 'Bournemouth' 'Brighton' 'Huddersfield' 'Brentford']\n",
      "\n",
      "cantidad locales:  50\n",
      "\n",
      "\n",
      "equipos visitantes:  ['Middlesbrough' 'Wimbledon' 'Manchester Utd' 'Blackburn' 'Norwich City'\n",
      " 'Aston Villa' 'Sheffield Weds' 'Tottenham' 'Oldham Athletic' 'Liverpool'\n",
      " 'QPR' 'Arsenal' 'Ipswich Town' 'Coventry City' 'Sheffield Utd'\n",
      " 'Leeds United' 'Crystal Palace' 'Manchester City' 'Chelsea' 'Southampton'\n",
      " 'Everton' \"Nott'ham Forest\" 'Swindon Town' 'West Ham' 'Newcastle Utd'\n",
      " 'Leicester City' 'Bolton' 'Derby County' 'Sunderland' 'Barnsley'\n",
      " 'Charlton Ath' 'Bradford City' 'Watford' 'Fulham' 'West Brom'\n",
      " 'Birmingham City' 'Wolves' 'Portsmouth' 'Wigan Athletic' 'Reading'\n",
      " 'Stoke City' 'Hull City' 'Burnley' 'Blackpool' 'Swansea City'\n",
      " 'Cardiff City' 'Bournemouth' 'Huddersfield' 'Brighton' 'Brentford']\n",
      "\n",
      "cantidad visitantes:  50\n"
     ]
    }
   ],
   "source": [
    "#Revisan los equipos\n",
    "print(\"equipos locales: \", matches['Home'].unique())\n",
    "print(\"\\ncantidad locales: \", len(matches['Home'].unique()))\n",
    "\n",
    "print(\"\\n\\nequipos visitantes: \", matches['Away'].unique())\n",
    "print(\"\\ncantidad visitantes: \", len(matches['Away'].unique()))"
   ]
  },
  {
   "cell_type": "code",
   "execution_count": 21,
   "metadata": {},
   "outputs": [],
   "source": [
    "#Se eliminan los resultados de la temporada 2023 de las historical standings\n",
    "historical_standings_pl = historical_standings_pl[historical_standings_pl['Season_End_Year'] != 2023]\n"
   ]
  }
 ],
 "metadata": {
  "kernelspec": {
   "display_name": "Python 3",
   "language": "python",
   "name": "python3"
  },
  "language_info": {
   "codemirror_mode": {
    "name": "ipython",
    "version": 3
   },
   "file_extension": ".py",
   "mimetype": "text/x-python",
   "name": "python",
   "nbconvert_exporter": "python",
   "pygments_lexer": "ipython3",
   "version": "3.8.19"
  }
 },
 "nbformat": 4,
 "nbformat_minor": 2
}
