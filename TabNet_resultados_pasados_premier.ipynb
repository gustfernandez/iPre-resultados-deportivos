{
 "cells": [
  {
   "cell_type": "code",
   "execution_count": 48,
   "metadata": {},
   "outputs": [],
   "source": [
    "from pytorch_tabnet.tab_model import TabNetClassifier\n",
    "\n",
    "import os\n",
    "import torch\n",
    "import pandas as pd\n",
    "import numpy as np\n",
    "import itertools\n",
    "import matplotlib.pyplot as plt\n",
    " \n",
    "from sklearn.model_selection import KFold, train_test_split\n",
    "from sklearn.preprocessing import MinMaxScaler, StandardScaler\n",
    "from sklearn.metrics import accuracy_score, classification_report, confusion_matrix"
   ]
  },
  {
   "cell_type": "code",
   "execution_count": 115,
   "metadata": {},
   "outputs": [
    {
     "name": "stdout",
     "output_type": "stream",
     "text": [
      "Index(['Season_End_Year', 'Team', 'Rk', 'MP', 'W', 'D', 'L', 'GF', 'GA', 'GD',\n",
      "       'Pts', 'Notes'],\n",
      "      dtype='object')\n"
     ]
    }
   ],
   "source": [
    "historical_standings_pl = pd.read_csv('data/Premier/premier-league-standing-1993-2023.csv')\n",
    "\n",
    "print(historical_standings_pl.columns)"
   ]
  },
  {
   "cell_type": "code",
   "execution_count": 116,
   "metadata": {},
   "outputs": [
    {
     "name": "stdout",
     "output_type": "stream",
     "text": [
      "Index(['Season_End_Year', 'Team', 'Rk', 'MP', 'W', 'D', 'L', 'GF', 'GA', 'GD',\n",
      "       'Pts'],\n",
      "      dtype='object')\n"
     ]
    }
   ],
   "source": [
    "#columna Notes no aporta.\n",
    "historical_standings_pl = historical_standings_pl.drop(columns=['Notes'])\n",
    "print(historical_standings_pl.columns)"
   ]
  },
  {
   "cell_type": "code",
   "execution_count": 117,
   "metadata": {},
   "outputs": [
    {
     "name": "stdout",
     "output_type": "stream",
     "text": [
      "['Arsenal' 'Aston Villa' 'Blackburn' 'Chelsea' 'Coventry City'\n",
      " 'Crystal Palace' 'Everton' 'Ipswich Town' 'Leeds United' 'Liverpool'\n",
      " 'Manchester City' 'Manchester Utd' 'Middlesbrough' 'Norwich City'\n",
      " \"Nott'ham Forest\" 'Oldham Athletic' 'QPR' 'Sheffield Utd'\n",
      " 'Sheffield Weds' 'Southampton' 'Tottenham' 'Wimbledon' 'Newcastle Utd'\n",
      " 'Swindon Town' 'West Ham' 'Leicester City' 'Bolton' 'Derby County'\n",
      " 'Sunderland' 'Barnsley' 'Charlton Ath' 'Bradford City' 'Watford' 'Fulham'\n",
      " 'Birmingham City' 'West Brom' 'Portsmouth' 'Wolves' 'Wigan Athletic'\n",
      " 'Reading' 'Hull City' 'Stoke City' 'Burnley' 'Blackpool' 'Swansea City'\n",
      " 'Cardiff City' 'Bournemouth' 'Brighton' 'Huddersfield' 'Brentford']\n",
      "\n",
      "cantidad:  50\n"
     ]
    }
   ],
   "source": [
    "#Revisamos la cantidad y los nombres de los equipos\n",
    "print(historical_standings_pl['Team'].unique())\n",
    "print(\"\\ncantidad: \", len(historical_standings_pl['Team'].unique()))"
   ]
  },
  {
   "cell_type": "code",
   "execution_count": 118,
   "metadata": {},
   "outputs": [
    {
     "name": "stdout",
     "output_type": "stream",
     "text": [
      "Index(['Season_End_Year', 'Wk', 'Date', 'Home', 'HomeGoals', 'AwayGoals',\n",
      "       'Away', 'FTR'],\n",
      "      dtype='object')\n"
     ]
    }
   ],
   "source": [
    "#Cargar archivo de los partidos\n",
    "matches = pd.read_csv('data/Premier/premier-league-matches-1993-2023.csv')\n",
    "\n",
    "print(matches.columns)"
   ]
  },
  {
   "cell_type": "code",
   "execution_count": 119,
   "metadata": {},
   "outputs": [
    {
     "name": "stdout",
     "output_type": "stream",
     "text": [
      "equipos locales:  ['Coventry City' 'Leeds United' 'Sheffield Utd' 'Crystal Palace' 'Arsenal'\n",
      " 'Ipswich Town' 'Everton' 'Southampton' 'Chelsea' \"Nott'ham Forest\"\n",
      " 'Manchester City' 'Blackburn' 'Wimbledon' 'Tottenham' 'Liverpool'\n",
      " 'Aston Villa' 'Oldham Athletic' 'Middlesbrough' 'Norwich City' 'QPR'\n",
      " 'Manchester Utd' 'Sheffield Weds' 'Newcastle Utd' 'West Ham'\n",
      " 'Swindon Town' 'Leicester City' 'Bolton' 'Sunderland' 'Derby County'\n",
      " 'Barnsley' 'Charlton Ath' 'Watford' 'Bradford City' 'Fulham'\n",
      " 'Birmingham City' 'West Brom' 'Portsmouth' 'Wolves' 'Wigan Athletic'\n",
      " 'Reading' 'Hull City' 'Stoke City' 'Burnley' 'Blackpool' 'Swansea City'\n",
      " 'Cardiff City' 'Bournemouth' 'Brighton' 'Huddersfield' 'Brentford']\n",
      "\n",
      "cantidad locales:  50\n",
      "\n",
      "\n",
      "equipos visitantes:  ['Middlesbrough' 'Wimbledon' 'Manchester Utd' 'Blackburn' 'Norwich City'\n",
      " 'Aston Villa' 'Sheffield Weds' 'Tottenham' 'Oldham Athletic' 'Liverpool'\n",
      " 'QPR' 'Arsenal' 'Ipswich Town' 'Coventry City' 'Sheffield Utd'\n",
      " 'Leeds United' 'Crystal Palace' 'Manchester City' 'Chelsea' 'Southampton'\n",
      " 'Everton' \"Nott'ham Forest\" 'Swindon Town' 'West Ham' 'Newcastle Utd'\n",
      " 'Leicester City' 'Bolton' 'Derby County' 'Sunderland' 'Barnsley'\n",
      " 'Charlton Ath' 'Bradford City' 'Watford' 'Fulham' 'West Brom'\n",
      " 'Birmingham City' 'Wolves' 'Portsmouth' 'Wigan Athletic' 'Reading'\n",
      " 'Stoke City' 'Hull City' 'Burnley' 'Blackpool' 'Swansea City'\n",
      " 'Cardiff City' 'Bournemouth' 'Huddersfield' 'Brighton' 'Brentford']\n",
      "\n",
      "cantidad visitantes:  50\n"
     ]
    }
   ],
   "source": [
    "#Revisan los equipos\n",
    "print(\"equipos locales: \", matches['Home'].unique())\n",
    "print(\"\\ncantidad locales: \", len(matches['Home'].unique()))\n",
    "\n",
    "print(\"\\n\\nequipos visitantes: \", matches['Away'].unique())\n",
    "print(\"\\ncantidad visitantes: \", len(matches['Away'].unique()))"
   ]
  },
  {
   "cell_type": "code",
   "execution_count": 120,
   "metadata": {},
   "outputs": [
    {
     "name": "stdout",
     "output_type": "stream",
     "text": [
      "[1993 1994 1995 1996 1997 1998 1999 2000 2001 2002 2003 2004 2005 2006\n",
      " 2007 2008 2009 2010 2011 2012 2013 2014 2015 2016 2017 2018 2019 2020\n",
      " 2021 2022]\n",
      "['Arsenal' 'Aston Villa' 'Blackburn' 'Chelsea' 'Coventry City'\n",
      " 'Crystal Palace' 'Everton' 'Ipswich Town' 'Leeds United' 'Liverpool'\n",
      " 'Manchester City' 'Manchester Utd' 'Middlesbrough' 'Norwich City'\n",
      " \"Nott'ham Forest\" 'Oldham Athletic' 'QPR' 'Sheffield Utd'\n",
      " 'Sheffield Weds' 'Southampton' 'Tottenham' 'Wimbledon' 'Newcastle Utd'\n",
      " 'Swindon Town' 'West Ham' 'Leicester City' 'Bolton' 'Derby County'\n",
      " 'Sunderland' 'Barnsley' 'Charlton Ath' 'Bradford City' 'Watford' 'Fulham'\n",
      " 'Birmingham City' 'West Brom' 'Portsmouth' 'Wolves' 'Wigan Athletic'\n",
      " 'Reading' 'Hull City' 'Stoke City' 'Burnley' 'Blackpool' 'Swansea City'\n",
      " 'Cardiff City' 'Bournemouth' 'Brighton' 'Huddersfield' 'Brentford']\n",
      "\n",
      "cantidad:  50\n"
     ]
    }
   ],
   "source": [
    "#Se eliminan los resultados de la temporada 2023 de las historical standings\n",
    "historical_standings_pl = historical_standings_pl[historical_standings_pl['Season_End_Year'] != 2023]\n",
    "\n",
    "#Revisar seasons\n",
    "print(historical_standings_pl['Season_End_Year'].unique())\n",
    "#Se revisan los equipos d nuevo\n",
    "print(historical_standings_pl['Team'].unique())\n",
    "print(\"\\ncantidad: \", len(historical_standings_pl['Team'].unique()))\n"
   ]
  },
  {
   "cell_type": "code",
   "execution_count": 122,
   "metadata": {},
   "outputs": [],
   "source": [
    "#Se elimina la temporada 1993 de los partidos porque no hay datos de la tabla de posiciones de la temp anterior.\n",
    "matches = matches[matches['Season_End_Year'] != 1993]"
   ]
  },
  {
   "cell_type": "code",
   "execution_count": 123,
   "metadata": {},
   "outputs": [
    {
     "name": "stdout",
     "output_type": "stream",
     "text": [
      "Equipos en partidos pero no en standings:  []\n",
      "Equipos en standings pero no en partidos:  []\n"
     ]
    }
   ],
   "source": [
    "#Comparar los equipos de los partidos con los equipos de las standings\n",
    "teams_matches_home = matches['Home'].unique()\n",
    "teams_standings = historical_standings_pl['Team'].unique()\n",
    "\n",
    "teams_not_in_standings = []\n",
    "for team in teams_matches_home:\n",
    "    if team not in teams_standings:\n",
    "        teams_not_in_standings.append(team)\n",
    "\n",
    "print(\"Equipos en partidos pero no en standings: \", teams_not_in_standings)\n",
    "\n",
    "#Comparamos las standings con partidos\n",
    "teams_not_in_matches = []\n",
    "for team in teams_standings:\n",
    "    if team not in teams_matches_home:\n",
    "        teams_not_in_matches.append(team)\n",
    "\n",
    "print(\"Equipos en standings pero no en partidos: \", teams_not_in_matches)\n",
    "    "
   ]
  },
  {
   "cell_type": "code",
   "execution_count": 124,
   "metadata": {},
   "outputs": [
    {
     "name": "stdout",
     "output_type": "stream",
     "text": [
      "<bound method NDFrame.head of               Team  Rk  MP   W   D   L  GF  GA  GD  Pts  Season_Start_Year\n",
      "0          Arsenal  10  42  15  11  16  40  38   2   56               1994\n",
      "1      Aston Villa   2  42  21  11  10  57  40  17   74               1994\n",
      "2        Blackburn   4  42  20  11  11  68  46  22   71               1994\n",
      "3          Chelsea  11  42  14  14  14  51  54  -3   56               1994\n",
      "4    Coventry City  15  42  13  13  16  52  57  -5   52               1994\n",
      "..             ...  ..  ..  ..  ..  ..  ..  ..  ..  ...                ...\n",
      "601    Southampton  15  38   9  13  16  43  67 -24   40               2023\n",
      "602      Tottenham   4  38  22   5  11  69  40  29   71               2023\n",
      "603        Watford  19  38   6   5  27  34  77 -43   23               2023\n",
      "604       West Ham   7  38  16   8  14  60  51   9   56               2023\n",
      "605         Wolves  10  38  15   6  17  38  43  -5   51               2023\n",
      "\n",
      "[606 rows x 11 columns]>\n",
      "[10  2  4 11 15 20 13 16 17  6  9  1 21  3 22 19  5 14  7 18  8 12]\n"
     ]
    }
   ],
   "source": [
    "#Ahora, se crea una columna de start year en las standings para hacer el merge.\n",
    "historical_standings_pl['Season_Start_Year'] = historical_standings_pl['Season_End_Year'] + 1\n",
    "\n",
    "#Se elimina la columna de season end year\n",
    "historical_standings_pl = historical_standings_pl.drop(columns=['Season_End_Year'])\n",
    "print(historical_standings_pl.head)\n",
    "print(historical_standings_pl['Rk'].unique())"
   ]
  },
  {
   "cell_type": "code",
   "execution_count": 125,
   "metadata": {},
   "outputs": [
    {
     "name": "stdout",
     "output_type": "stream",
     "text": [
      "               Team  Rk  MP   W   D   L  GF   GA  GD  Pts  Season_Start_Year\n",
      "12    Middlesbrough  21  42  11  11  20  54   75 -21   44               1994\n",
      "14  Nott'ham Forest  22  42  10  10  22  41   62 -21   40               1994\n",
      "35  Oldham Athletic  21  42   9  13  20  42   68 -26   40               1995\n",
      "40     Swindon Town  22  42   5  15  22  47  100 -53   30               1995\n",
      "51     Ipswich Town  22  42   7   6  29  36   93 -57   27               1996\n",
      "53   Leicester City  21  42   6  11  25  45   80 -35   29               1996\n"
     ]
    }
   ],
   "source": [
    "#Seleccionar equipos con Rk menor que 20.\n",
    "rk_over_20 = historical_standings_pl[historical_standings_pl['Rk'] > 20]\n",
    "print(rk_over_20)"
   ]
  },
  {
   "cell_type": "code",
   "execution_count": 126,
   "metadata": {},
   "outputs": [
    {
     "name": "stdout",
     "output_type": "stream",
     "text": [
      "Index(['Season_End_Year', 'Wk', 'Date', 'Home', 'HomeGoals', 'AwayGoals',\n",
      "       'Away', 'FTR', 'Position_last_year_home', 'Points_last_year_home',\n",
      "       'Position_last_year_away', 'Points_last_year_away'],\n",
      "      dtype='object')\n",
      "Season_End_Year                      1994\n",
      "Wk                                      1\n",
      "Date                           1993-08-14\n",
      "Home                            Liverpool\n",
      "HomeGoals                               2\n",
      "AwayGoals                               0\n",
      "Away                       Sheffield Weds\n",
      "FTR                                     H\n",
      "Position_last_year_home               6.0\n",
      "Points_last_year_home                59.0\n",
      "Position_last_year_away               7.0\n",
      "Points_last_year_away                59.0\n",
      "Name: 0, dtype: object\n"
     ]
    }
   ],
   "source": [
    "#Solo nos importan las columnas de la posición y los puntos\n",
    "historical_standings_pl = historical_standings_pl[['Team', 'Season_Start_Year', 'Rk', 'Pts']]\n",
    "\n",
    "#merge de los partidos con las standings del local\n",
    "matches = matches.merge(historical_standings_pl, left_on=['Home', 'Season_End_Year'], right_on=['Team', 'Season_Start_Year'], how='left')\n",
    "\n",
    "#Se renombran las columnas last_season\n",
    "matches = matches.rename(columns={'Rk': 'Position_last_year_home', 'Pts': 'Points_last_year_home'})\n",
    "\n",
    "#Se eliminan las columnas de team y season start year\n",
    "matches = matches.drop(columns=['Team', 'Season_Start_Year'])\n",
    "\n",
    "#merge de los partidos con las standings del visitante\n",
    "matches = matches.merge(historical_standings_pl, left_on=['Away', 'Season_End_Year'], right_on=['Team', 'Season_Start_Year'], how='left')\n",
    "\n",
    "#Se renombran las columnas last_season\n",
    "matches = matches.rename(columns={'Rk': 'Position_last_year_away', 'Pts': 'Points_last_year_away'})\n",
    "\n",
    "#Se eliminan las columnas de team y season start year\n",
    "matches = matches.drop(columns=['Team', 'Season_Start_Year'])\n",
    "\n",
    "print(matches.columns)\n",
    "#print el primer partido\n",
    "print(matches.iloc[0])\n"
   ]
  },
  {
   "cell_type": "markdown",
   "metadata": {},
   "source": [
    "Si no tiene posición en la temporada pasada, es porque el equipo **ascendió de categoría**. Se pone la posición 18."
   ]
  },
  {
   "cell_type": "code",
   "execution_count": 128,
   "metadata": {},
   "outputs": [
    {
     "name": "stdout",
     "output_type": "stream",
     "text": [
      "[ 6. 11.  2. 19. 10.  9. 18. 14.  3.  8. 12. 17. 16. 13.  1.  7.  4. 15.\n",
      "  5.]\n",
      "[ 7.  4.  5. 16. 15. 17.  8. 18. 13. 12.  1. 10. 11.  9. 14.  2.  3. 19.\n",
      "  6.]\n"
     ]
    }
   ],
   "source": [
    "matches['Position_last_year_home'] = matches['Position_last_year_home'].fillna(18)\n",
    "print(matches['Position_last_year_home'].unique())\n",
    "\n",
    "matches['Position_last_year_away'] = matches['Position_last_year_away'].fillna(18)\n",
    "print(matches['Position_last_year_away'].unique())"
   ]
  },
  {
   "cell_type": "markdown",
   "metadata": {},
   "source": [
    "Para el tema de los puntos vacios, se rellenan con el puntaje que tuvo el puesto 17 ya que es el último puesto que no desciende."
   ]
  },
  {
   "cell_type": "code",
   "execution_count": 133,
   "metadata": {},
   "outputs": [
    {
     "name": "stdout",
     "output_type": "stream",
     "text": [
      "Season_End_Year                      1994\n",
      "Wk                                      1\n",
      "Date                           1993-08-14\n",
      "Home                            Liverpool\n",
      "HomeGoals                               2\n",
      "AwayGoals                               0\n",
      "Away                       Sheffield Weds\n",
      "FTR                                     H\n",
      "Position_last_year_home               6.0\n",
      "Points_last_year_home                59.0\n",
      "Position_last_year_away               7.0\n",
      "Points_last_year_away                59.0\n",
      "Name: 0, dtype: object\n",
      "Empty DataFrame\n",
      "Columns: [Season_End_Year, Wk, Date, Home, HomeGoals, AwayGoals, Away, FTR, Position_last_year_home, Points_last_year_home, Position_last_year_away, Points_last_year_away]\n",
      "Index: []\n",
      "Empty DataFrame\n",
      "Columns: [Season_End_Year, Wk, Date, Home, HomeGoals, AwayGoals, Away, FTR, Position_last_year_home, Points_last_year_home, Position_last_year_away, Points_last_year_away]\n",
      "Index: []\n"
     ]
    }
   ],
   "source": [
    "#Se rellenan los puntos con los obtenidos en el puesto 17 de esa temporada.\n",
    "\n",
    "seasons = matches['Season_End_Year'].unique()\n",
    "\n",
    "for season in seasons:\n",
    "    \n",
    "    points_17 = historical_standings_pl[(historical_standings_pl['Season_Start_Year'] == season) & (historical_standings_pl['Rk'] == 17.0)]['Pts']\n",
    "\n",
    "    points_17 = points_17.values[0]\n",
    "    matches.loc[(matches['Season_End_Year'] == season) & (matches['Points_last_year_home'].isnull()), 'Points_last_year_home'] = points_17\n",
    "    matches.loc[(matches['Season_End_Year'] == season) & (matches['Points_last_year_away'].isnull()), 'Points_last_year_away'] = points_17\n",
    "\n",
    "print(matches.iloc[0])\n",
    "print(matches[matches['Points_last_year_home'].isnull()])\n",
    "print(matches[matches['Points_last_year_away'].isnull()])"
   ]
  },
  {
   "cell_type": "code",
   "execution_count": null,
   "metadata": {},
   "outputs": [],
   "source": [
    "print"
   ]
  }
 ],
 "metadata": {
  "kernelspec": {
   "display_name": "Python 3",
   "language": "python",
   "name": "python3"
  },
  "language_info": {
   "codemirror_mode": {
    "name": "ipython",
    "version": 3
   },
   "file_extension": ".py",
   "mimetype": "text/x-python",
   "name": "python",
   "nbconvert_exporter": "python",
   "pygments_lexer": "ipython3",
   "version": "3.8.19"
  }
 },
 "nbformat": 4,
 "nbformat_minor": 2
}
