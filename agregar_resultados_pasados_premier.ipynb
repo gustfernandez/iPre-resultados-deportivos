{
 "cells": [
  {
   "cell_type": "code",
   "execution_count": 101,
   "id": "41ae2963-34cd-4bc5-8c52-2db8f619226b",
   "metadata": {},
   "outputs": [
    {
     "name": "stdout",
     "output_type": "stream",
     "text": [
      "PyTorch version: 1.13.1\n",
      "Is MPS (Metal Performance Shader) built? True\n",
      "Is MPS available? True\n",
      "Using device: mps\n"
     ]
    }
   ],
   "source": [
    "import os\n",
    "import torch\n",
    "import pandas as pd\n",
    "import numpy as np\n",
    "import itertools\n",
    "import matplotlib.pyplot as plt\n",
    "\n",
    "print(f\"PyTorch version: {torch.__version__}\")\n",
    "\n",
    "# Check PyTorch has access to MPS (Metal Performance Shader, Apple's GPU architecture)\n",
    "print(f\"Is MPS (Metal Performance Shader) built? {torch.backends.mps.is_built()}\")\n",
    "print(f\"Is MPS available? {torch.backends.mps.is_available()}\")\n",
    "\n",
    "# Set the device      \n",
    "device = \"mps\" if torch.backends.mps.is_available() else \"cpu\"\n",
    "print(f\"Using device: {device}\")"
   ]
  },
  {
   "cell_type": "code",
   "execution_count": 102,
   "id": "f72a1dcb-9111-4ff9-a681-5b675ed69a22",
   "metadata": {},
   "outputs": [
    {
     "name": "stdout",
     "output_type": "stream",
     "text": [
      "   Season_End_Year          Team  Rk\n",
      "0             2019       Arsenal   5\n",
      "1             2019   Bournemouth  14\n",
      "2             2019      Brighton  17\n",
      "3             2019       Burnley  15\n",
      "4             2019  Cardiff City  18\n",
      "   Season_Start_Year         Team   ELO\n",
      "0               2019      Arsenal  1871\n",
      "1               2019  Bournemouth  1695\n",
      "2               2019     Brighton  1620\n",
      "3               2019      Burnley  1686\n",
      "4               2019  Aston Villa  1616\n"
     ]
    }
   ],
   "source": [
    "folder = \"Data\"\n",
    "años = [\"19-20\", \"20-21\", \"21-22\", \"22-23\", \"23-24\"]\n",
    "torneos = []\n",
    "\n",
    "for año in años:\n",
    "    match_file = f\"stats_{año}.csv\"\n",
    "    path_matches = os.path.join(folder, match_file)\n",
    "    matches = pd.read_csv(path_matches)\n",
    "    torneos.append(matches)\n",
    "    #print(matches.head())\n",
    "\n",
    "#Estos con ;\n",
    "results_last_season = pd.read_csv(\"Data/premier-league-tables.csv\", sep=\";\")\n",
    "ELOs = pd.read_csv(\"Data/Premier/premier_league_elo.csv\", sep=\";\")\n",
    "\n",
    "#Solo nos quedamos con las columnas que nos interesan\n",
    "results_last_season = results_last_season[[\"Season_End_Year\", \"Team\", \"Rk\"]]\n",
    "\n",
    "print(results_last_season.head())\n",
    "print(ELOs.head())"
   ]
  },
  {
   "cell_type": "code",
   "execution_count": 107,
   "id": "7561d0fe",
   "metadata": {},
   "outputs": [
    {
     "name": "stdout",
     "output_type": "stream",
     "text": [
      "(378, 49)\n",
      "(380, 49)\n",
      "(374, 49)\n",
      "(380, 49)\n",
      "(132, 49)\n"
     ]
    }
   ],
   "source": [
    "for torneo in torneos:\n",
    "    torneo.dropna(subset=['team_home', 'team_away'], inplace=True)\n",
    "\n",
    "columns_with_null = []\n",
    "\n",
    "for torneo in torneos:\n",
    "    null_columns = torneo.columns[torneo.isna().any()].tolist()\n",
    "    columns_with_null.append(null_columns)\n",
    "\n",
    "columns_with_null\n",
    "\n",
    "unique_columns = list(set(itertools.chain.from_iterable(columns_with_null)))\n",
    "unique_columns\n",
    "\n",
    "#Borrar para cada torneo las columnas en unique_columns\n",
    "for torneo in torneos:\n",
    "    torneo.drop(columns=unique_columns, inplace=True)\n",
    "\n",
    "torneos2 = []\n",
    "\n",
    "for torneo in torneos:\n",
    "    torneo.sort_values(by='number_of_match', inplace=True)\n",
    "    torneo.rename(columns={'home_score': 'score_home', 'away_score': 'score_away'}, inplace=True)\n",
    "\n",
    "    ##OJOO arreglar tema de equipos\n",
    "    team_counts = pd.concat([torneo['team_home'], torneo['team_away']]).value_counts()\n",
    "    teams_to_remove = team_counts[team_counts < 5].index\n",
    "\n",
    "    torneo = torneo[~(torneo['team_home'].isin(teams_to_remove) | torneo['team_away'].isin(teams_to_remove))]\n",
    "    torneos2.append(torneo)\n",
    "\n",
    "torneos = torneos2\n",
    "torneos[0].head()\n",
    "\n",
    "#Cantidad de datos en cada torneo\n",
    "for torneo in torneos:\n",
    "    print(torneo.shape)"
   ]
  },
  {
   "cell_type": "code",
   "execution_count": 104,
   "id": "bbb3afef",
   "metadata": {},
   "outputs": [
    {
     "name": "stdout",
     "output_type": "stream",
     "text": [
      "20 20\n",
      "['Liverpool' 'West Ham' 'Bournemouth' 'Burnley' 'Crystal Palace' 'Watford'\n",
      " 'Tottenham' 'Newcastle United' 'Manchester United' 'Arsenal'\n",
      " 'Aston Villa' 'Brighton' 'Everton' 'Norwich City' 'Southampton'\n",
      " 'Manchester City' 'Sheffield United' 'Chelsea' 'Wolverhampton'\n",
      " 'Leicester City']\n",
      "20 20\n",
      "['Fulham' 'Crystal Palace' 'Liverpool' 'West Ham' 'West Bromwich Albion'\n",
      " 'Tottenham' 'Sheffield United' 'Brighton' 'Burnley' 'Manchester City'\n",
      " 'Everton' 'Leeds United' 'Manchester United' 'Arsenal' 'Southampton'\n",
      " 'Newcastle United' 'Chelsea' 'Leicester City' 'Aston Villa'\n",
      " 'Wolverhampton']\n",
      "20 20\n",
      "['Brentford' 'Manchester United' 'Burnley' 'Chelsea' 'Everton'\n",
      " 'Leicester City' 'Watford' 'Norwich City' 'Newcastle United' 'Tottenham'\n",
      " 'Liverpool' 'Aston Villa' 'Crystal Palace' 'Leeds United'\n",
      " 'Manchester City' 'Brighton' 'Southampton' 'Wolverhampton' 'Arsenal'\n",
      " 'West Ham']\n",
      "20 20\n",
      "['Crystal Palace' 'Fulham' 'Bournemouth' 'Leeds United' 'Newcastle United'\n",
      " 'Tottenham' 'Everton' 'Leicester City' 'Manchester United' 'West Ham'\n",
      " 'Aston Villa' 'Arsenal' 'Brighton' 'Manchester City' 'Southampton'\n",
      " 'Wolverhampton' 'Brentford' 'Nottingham Forest' 'Chelsea' 'Liverpool']\n",
      "20 20\n",
      "['Burnley' 'Arsenal' 'Bournemouth' 'Brighton' 'Everton' 'Sheffield United'\n",
      " 'Newcastle United' 'Brentford' 'Chelsea' 'Manchester United'\n",
      " 'Nottingham Forest' 'Fulham' 'Liverpool' 'Wolverhampton' 'Tottenham'\n",
      " 'Manchester City' 'Aston Villa' 'West Ham' 'Crystal Palace' 'Luton Town']\n"
     ]
    }
   ],
   "source": [
    "for torneo, i in zip(torneos, range(len(torneos))):\n",
    "\n",
    "    torneo.loc[:, \"team_home\"] = torneo[\"team_home\"].apply(lambda x: x.replace(\"AFC \", \"\"))\n",
    "    torneo.loc[:, \"team_away\"] = torneo[\"team_away\"].apply(lambda x: x.replace(\"AFC \", \"\"))\n",
    "\n",
    "    torneo.loc[:, \"team_home\"] = torneo[\"team_home\"].apply(lambda x: x.replace(\"West Ham United\", \"West Ham\"))\n",
    "    torneo.loc[:, \"team_away\"] = torneo[\"team_away\"].apply(lambda x: x.replace(\"West Ham United\", \"West Ham\"))\n",
    "\n",
    "    torneo.loc[:, \"team_home\"] = torneo[\"team_home\"].apply(lambda x: x.replace(\" Hotspur\", \"\"))\n",
    "    torneo.loc[:, \"team_away\"] = torneo[\"team_away\"].apply(lambda x: x.replace(\" Hotspur\", \"\"))\n",
    "\n",
    "    torneo.loc[:, \"team_home\"] = torneo[\"team_home\"].apply(lambda x: x.replace(\"Brighton & Hove Albion\", \"Brighton\"))\n",
    "    torneo.loc[:, \"team_away\"] = torneo[\"team_away\"].apply(lambda x: x.replace(\"Brighton & Hove Albion\", \"Brighton\"))\n",
    "\n",
    "    \n",
    "    equipos = torneo[\"team_home\"].unique()\n",
    "    equipos2 = torneo[\"team_away\"].unique()\n",
    "\n",
    "    print(len(equipos), len(equipos2))\n",
    "    print(equipos)\n",
    "\n"
   ]
  },
  {
   "cell_type": "code",
   "execution_count": 91,
   "id": "8c98bc59",
   "metadata": {},
   "outputs": [],
   "source": [
    "#Cambiar nombre de teams:\n",
    "#Manchester Utd -> Manchester United\n",
    "results_last_season[\"Team\"] = results_last_season[\"Team\"].replace(\"Manchester Utd\", \"Manchester United\")\n",
    "#Newcastle Utd -> Newcastle United\n",
    "results_last_season[\"Team\"] = results_last_season[\"Team\"].replace(\"Newcastle Utd\", \"Newcastle United\")\n",
    "#Nott'm Forest -> Nottingham Forest\n",
    "results_last_season[\"Team\"] = results_last_season[\"Team\"].replace(\"Nott'ham Forest\", \"Nottingham Forest\")\n",
    "#Wolves -> Wolverhampton\n",
    "results_last_season[\"Team\"] = results_last_season[\"Team\"].replace(\"Wolves\", \"Wolverhampton\")\n",
    "#West Brom -> West Bromwich Albion\n",
    "results_last_season[\"Team\"] = results_last_season[\"Team\"].replace(\"West Brom\", \"West Bromwich Albion\")\n",
    "\n",
    "df = torneos[1]\n",
    "\n",
    "#Los equipos que esten en la tabla de la temporada pero no en el torneo, se les asigna la posición 18\n",
    "\n",
    "new_torneos = []\n",
    "#desde 19-20 hasta 23-24\n",
    "ini = 2019\n",
    "for i in range(len(torneos)):\n",
    "    df = torneos[i]\n",
    "\n",
    "    #cantidad de datos\n",
    "\n",
    "    #print(f\"cant.datos:\\n {df.shape}\")\n",
    "\n",
    "    results = results_last_season[results_last_season[\"Season_End_Year\"] == ini]\n",
    "\n",
    "    #columnas de results_2019\n",
    "    #print(results.columns)\n",
    "\n",
    "    #Los equipos que esten en la tabla de la temporada pero no en el torneo, se les asigna la posición 18\n",
    "    teams_in_tournament = df[\"team_home\"].unique()\n",
    "    #print(\"\\nTeams in tournament Home\")\n",
    "    #print(teams_in_tournament)\n",
    "\n",
    "    teams_in_tournament2 = df[\"team_away\"].unique()\n",
    "    #print(\"\\nTeams in tournament Away\")\n",
    "    #print(teams_in_tournament2)\n",
    "\n",
    "    teams_in_table = results[\"Team\"].unique()\n",
    "    #print(\"\\nTeams in table\")\n",
    "    #print(teams_in_table)\n",
    "\n",
    "    teams_not_in_tournament = np.setdiff1d(teams_in_tournament, teams_in_table)\n",
    "    #print(\"\\nTeams not in tournament\")\n",
    "    #print(teams_not_in_tournament)\n",
    "\n",
    "    for team in teams_not_in_tournament:\n",
    "        results = pd.concat([results, pd.DataFrame({\"Team\": [team], \"Rk\": [18], \"Season_End_Year\": [ini]})])\n",
    "        #print(results)\n",
    "        #Unir los dos dataframes con team_home y team_away\n",
    "    df = df.merge(results, left_on=\"team_home\", right_on=\"Team\")\n",
    "    #Botar la columna Team y Season_End_Year\n",
    "    df = df.drop(columns=[\"Team\", \"Season_End_Year\"])\n",
    "    #Renombrar la columna Rk a last_season_position_home\n",
    "    df = df.rename(columns={\"Rk\": \"last_season_position_home\"})\n",
    "    #Unir con team_away\n",
    "    df = df.merge(results, left_on=\"team_away\", right_on=\"Team\")\n",
    "    #Botar la columna Team y Season_End_Year\n",
    "    df = df.drop(columns=[\"Team\", \"Season_End_Year\"])\n",
    "    #Renombrar la columna Rk a last_season_position_away\n",
    "    df = df.rename(columns={\"Rk\": \"last_season_position_away\"})\n",
    "    #print(df.head())\n",
    "\n",
    "\n",
    "    #exportar a stat\n",
    "    #df.to_csv(f\"Data/stats_{str(ini)[2:]}-{str(ini+1)[2:]}.csv\", index=False)\n",
    "    #print(f\"Data/stats_{str(ini)[2:]}-{str(ini+1)[2:]}.csv\")\n",
    "    new_torneos.append(df)\n",
    "    ini += 1\n",
    "    "
   ]
  },
  {
   "cell_type": "code",
   "execution_count": 105,
   "id": "3a5dc26d-36ee-471a-aefd-13d8b721f990",
   "metadata": {},
   "outputs": [
    {
     "name": "stdout",
     "output_type": "stream",
     "text": [
      "['Arsenal' 'Bournemouth' 'Brighton' 'Burnley' 'Aston Villa' 'Chelsea'\n",
      " 'Crystal Palace' 'Everton' 'Sheffield United' 'Norwich City'\n",
      " 'Leicester City' 'Liverpool' 'Manchester City' 'Manchester United'\n",
      " 'Newcastle United' 'Southampton' 'Tottenham' 'Watford' 'West Ham'\n",
      " 'Wolverhampton' 'Leeds United' 'Fulham' 'West Bromwich Albion'\n",
      " 'Brentford' 'Nottingham Forest' 'Luton Town'] cantidad: 26\n"
     ]
    }
   ],
   "source": [
    "#Ahora se unen los datos de ELOs\n",
    "#Cambiar nombre de teams:\n",
    "#Manchester Utd -> Manchester United\n",
    "ELOs[\"Team\"] = ELOs[\"Team\"].replace(\"Manchester Utd\", \"Manchester United\")\n",
    "#Newcastle Utd -> Newcastle United\n",
    "ELOs[\"Team\"] = ELOs[\"Team\"].replace(\"Newcastle Utd\", \"Newcastle United\")\n",
    "#Nott'm Forest -> Nottingham Forest\n",
    "ELOs[\"Team\"] = ELOs[\"Team\"].replace(\"Nott'ham Forest\", \"Nottingham Forest\")\n",
    "#Wolves -> Wolverhampton\n",
    "ELOs[\"Team\"] = ELOs[\"Team\"].replace(\"Wolves\", \"Wolverhampton\")\n",
    "#Sheffield Utd -> Sheffield United\n",
    "ELOs[\"Team\"] = ELOs[\"Team\"].replace(\"Sheffield Utd\", \"Sheffield United\")\n",
    "#west brom -> West Bromwich Albion\n",
    "ELOs[\"Team\"] = ELOs[\"Team\"].replace(\"West Brom\", \"West Bromwich Albion\")\n",
    "print(ELOs[\"Team\"].unique(), \"cantidad:\", len(ELOs[\"Team\"].unique()))"
   ]
  },
  {
   "cell_type": "code",
   "execution_count": 106,
   "id": "74e1b0a4",
   "metadata": {},
   "outputs": [
    {
     "name": "stdout",
     "output_type": "stream",
     "text": [
      "Data/stats_19-20.csv\n",
      "Data/stats_20-21.csv\n",
      "Data/stats_21-22.csv\n",
      "Data/stats_22-23.csv\n",
      "Data/stats_23-24.csv\n"
     ]
    }
   ],
   "source": [
    "ini = 2019\n",
    "for i in range(len(torneos)):\n",
    "    df = new_torneos[i]\n",
    "\n",
    "    #print equipos en torneo[i] y en ELOs\n",
    "\n",
    "    #print(df[\"team_home\"].unique(), \"cantidad:\", len(df[\"team_home\"].unique()))\n",
    "    #print(df[\"team_away\"].unique(), \"cantidad:\", len(df[\"team_away\"].unique()))\n",
    "\n",
    "    elo = ELOs[ELOs[\"Season_Start_Year\"] == ini]\n",
    "    #print(elo[\"Team\"].unique(), \"cantidad:\", len(elo[\"Team\"].unique()))\n",
    "    df = df.merge(elo, left_on=\"team_home\", right_on=\"Team\")\n",
    "    df = df.drop(columns=[\"Team\", \"Season_Start_Year\"])\n",
    "    df = df.rename(columns={\"ELO\": \"ELO_home\"})\n",
    "    df = df.merge(elo, left_on=\"team_away\", right_on=\"Team\")\n",
    "    df = df.drop(columns=[\"Team\", \"Season_Start_Year\"])\n",
    "    df = df.rename(columns={\"ELO\": \"ELO_away\"})\n",
    "    df.to_csv(f\"Data/stats_{str(ini)[2:]}-{str(ini+1)[2:]}.csv\", index=False)\n",
    "    print(f\"Data/stats_{str(ini)[2:]}-{str(ini+1)[2:]}.csv\")\n",
    "    ini += 1"
   ]
  },
  {
   "cell_type": "code",
   "execution_count": 109,
   "id": "5a4c7fe1-aeb3-4777-a54d-c493510680ef",
   "metadata": {},
   "outputs": [
    {
     "name": "stdout",
     "output_type": "stream",
     "text": [
      "Data/stats_19-20.csv\n",
      "Data/stats_20-21.csv\n",
      "Data/stats_21-22.csv\n",
      "Data/stats_22-23.csv\n",
      "Data/stats_23-24.csv\n"
     ]
    }
   ],
   "source": [
    "#Eliminar columnas last_season_position_home.1,last_season_position_away.1 de los archivos stats\n",
    "for i in range(2019, 2024):\n",
    "    df = pd.read_csv(f\"Data/stats_{str(i)[2:]}-{str(i+1)[2:]}.csv\")\n",
    "    df = df.drop(columns=[\"last_season_position_home.1\", \"last_season_position_away.1\"])\n",
    "    df.to_csv(f\"Data/stats_{str(i)[2:]}-{str(i+1)[2:]}.csv\", index=False)\n",
    "    print(f\"Data/stats_{str(i)[2:]}-{str(i+1)[2:]}.csv\")"
   ]
  }
 ],
 "metadata": {
  "kernelspec": {
   "display_name": "Python 3 (ipykernel)",
   "language": "python",
   "name": "python3"
  },
  "language_info": {
   "codemirror_mode": {
    "name": "ipython",
    "version": 3
   },
   "file_extension": ".py",
   "mimetype": "text/x-python",
   "name": "python",
   "nbconvert_exporter": "python",
   "pygments_lexer": "ipython3",
   "version": "3.8.18"
  }
 },
 "nbformat": 4,
 "nbformat_minor": 5
}
